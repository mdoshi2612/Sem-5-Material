{
  "cells": [
    {
      "cell_type": "markdown",
      "metadata": {
        "id": "XPMlcJUm4ThX"
      },
      "source": [
        "## Assignment 2  ME 781  (Data Scale)"
      ]
    },
    {
      "cell_type": "markdown",
      "metadata": {
        "id": "ZriYMzb84Thb"
      },
      "source": [
        "### Perform the following tasks in sequence:\n",
        "\n",
        "1. Create a list of 5 open data sets available for machine learning along with their links for each of the three Data Types (Discrete data Type, Sequential (temporal) data Type and Spatial data Type)\n",
        "\n",
        "\n",
        "2. Write a python code to input a dataset (csv file) of Discrete data type, automatically identify and print the\n",
        "\n",
        "    a. Number of attributes and number of entries\n",
        "    \n",
        "    b. Data scale of each attribute\n",
        "    \n",
        "    c. Data value of each attribute\n",
        "\n",
        "\n",
        "3.      Write a python code to perform statistics on each data column based on its data scale.\n",
        "\n",
        "\n",
        "4.      Can we use a box plot for visualizing ordinal data? (Yes/No). Explain why. \n",
        "\n",
        "![MicrosoftTeams-image2.png](attachment:MicrosoftTeams-image2.png)\n",
        "\n",
        "\n",
        "5.      Write a python code to visualize data in the csv file (a generalized method depending upon data scale) \n",
        "\n",
        "    Assignment instructions:\n",
        "    1. Naming convention: Please name your colab files as rollnumber_A2.ipynb. \n",
        "    2. Learn how to use markdown to add texts in colab to make your code interactive and understandable. \n",
        "    3. After completion of your assignment download the file as .ipynb and submit itusing Teams assignment tab."
      ]
    },
    {
      "cell_type": "markdown",
      "metadata": {
        "id": "wm36Wzny4Thd"
      },
      "source": [
        "  ###  We have a software to check plagiarism in code, if anyone found copying the code, strict action will be taken against such students and can also be given FR grade directly.\n",
        "    \n",
        "  We  expect  you  to  upload  colab  notebooks  when  you  are  required  to  turn  your  programming assignments.  Please  make  sure  that  you  provide  enough  comments  in  the  code  for  the TAs to understand \n",
        "       "
      ]
    },
    {
      "cell_type": "markdown",
      "metadata": {
        "id": "OP7AY9ZG4The"
      },
      "source": [
        "### Libraries"
      ]
    },
    {
      "cell_type": "code",
      "execution_count": 1,
      "metadata": {
        "id": "lMHUJOv24Thf"
      },
      "outputs": [],
      "source": [
        "import numpy as np\n",
        "import pandas as pd\n",
        "import matplotlib.pyplot as plt\n",
        "import seaborn as sns "
      ]
    },
    {
      "cell_type": "markdown",
      "metadata": {
        "id": "SgmjC6Lr4Thh"
      },
      "source": [
        "### 1. List of 5 open data sets"
      ]
    },
    {
      "cell_type": "code",
      "execution_count": 2,
      "metadata": {
        "id": "UkZPyHch4Thh"
      },
      "outputs": [],
      "source": [
        "## Paste the URLs of open datasets here and add comments describing the dataset\n",
        "url1 = \"https://www.kaggle.com/datasets/whenamancodes/students-performance-in-exams\" # Students exam scores based on various factors\n",
        "url2 = \"https://www.openml.org/d/37\" # Diabetes dataset\n",
        "url3 = \"https://www.kaggle.com/dev0914sharma/customer-clustering\" # Clustering various customers based on their buying characteristics\n",
        "\n",
        "# All the above are discrete data types\n",
        "\n",
        "url4 =  \"https://www.kaggle.com/mattiuzc/stock-exchange-data\" # Stock prices - temporal data type\n",
        "url5 = \"https://www.kaggle.com/iamsouravbanerjee/animal-image-dataset-90-different-animals\" # Classification of images using deep learning methods - spatial data type"
      ]
    },
    {
      "cell_type": "markdown",
      "metadata": {
        "id": "s6fpgrHQ4Thi"
      },
      "source": [
        "### 2.   Write a python code to input a dataset (csv file) of Discrete datatype, automatically identify and print the\n",
        "\n",
        "    a. Number of attributes and number of data points\n",
        "    \n",
        "    b. Data scale of each attribute\n",
        "    \n",
        "    c. Data value of each attribute"
      ]
    },
    {
      "cell_type": "markdown",
      "metadata": {
        "id": "Llgw5V2p4Thi"
      },
      "source": [
        "#### Note: The number of categories for categorical (nominal,ordinal) data scale for the evaluating datasets is not greater than 8."
      ]
    },
    {
      "cell_type": "code",
      "source": [
        "# Uploading files\n",
        "from google.colab import files\n",
        "uploaded = files.upload()"
      ],
      "metadata": {
        "colab": {
          "base_uri": "https://localhost:8080/",
          "height": 74
        },
        "id": "3AyB7F8oTMc-",
        "outputId": "5db50963-810c-47c4-be67-81dba40088ba"
      },
      "execution_count": 3,
      "outputs": [
        {
          "output_type": "display_data",
          "data": {
            "text/plain": [
              "<IPython.core.display.HTML object>"
            ],
            "text/html": [
              "\n",
              "     <input type=\"file\" id=\"files-1db0eefc-a9c3-4229-922a-e65df5caa0c7\" name=\"files[]\" multiple disabled\n",
              "        style=\"border:none\" />\n",
              "     <output id=\"result-1db0eefc-a9c3-4229-922a-e65df5caa0c7\">\n",
              "      Upload widget is only available when the cell has been executed in the\n",
              "      current browser session. Please rerun this cell to enable.\n",
              "      </output>\n",
              "      <script>// Copyright 2017 Google LLC\n",
              "//\n",
              "// Licensed under the Apache License, Version 2.0 (the \"License\");\n",
              "// you may not use this file except in compliance with the License.\n",
              "// You may obtain a copy of the License at\n",
              "//\n",
              "//      http://www.apache.org/licenses/LICENSE-2.0\n",
              "//\n",
              "// Unless required by applicable law or agreed to in writing, software\n",
              "// distributed under the License is distributed on an \"AS IS\" BASIS,\n",
              "// WITHOUT WARRANTIES OR CONDITIONS OF ANY KIND, either express or implied.\n",
              "// See the License for the specific language governing permissions and\n",
              "// limitations under the License.\n",
              "\n",
              "/**\n",
              " * @fileoverview Helpers for google.colab Python module.\n",
              " */\n",
              "(function(scope) {\n",
              "function span(text, styleAttributes = {}) {\n",
              "  const element = document.createElement('span');\n",
              "  element.textContent = text;\n",
              "  for (const key of Object.keys(styleAttributes)) {\n",
              "    element.style[key] = styleAttributes[key];\n",
              "  }\n",
              "  return element;\n",
              "}\n",
              "\n",
              "// Max number of bytes which will be uploaded at a time.\n",
              "const MAX_PAYLOAD_SIZE = 100 * 1024;\n",
              "\n",
              "function _uploadFiles(inputId, outputId) {\n",
              "  const steps = uploadFilesStep(inputId, outputId);\n",
              "  const outputElement = document.getElementById(outputId);\n",
              "  // Cache steps on the outputElement to make it available for the next call\n",
              "  // to uploadFilesContinue from Python.\n",
              "  outputElement.steps = steps;\n",
              "\n",
              "  return _uploadFilesContinue(outputId);\n",
              "}\n",
              "\n",
              "// This is roughly an async generator (not supported in the browser yet),\n",
              "// where there are multiple asynchronous steps and the Python side is going\n",
              "// to poll for completion of each step.\n",
              "// This uses a Promise to block the python side on completion of each step,\n",
              "// then passes the result of the previous step as the input to the next step.\n",
              "function _uploadFilesContinue(outputId) {\n",
              "  const outputElement = document.getElementById(outputId);\n",
              "  const steps = outputElement.steps;\n",
              "\n",
              "  const next = steps.next(outputElement.lastPromiseValue);\n",
              "  return Promise.resolve(next.value.promise).then((value) => {\n",
              "    // Cache the last promise value to make it available to the next\n",
              "    // step of the generator.\n",
              "    outputElement.lastPromiseValue = value;\n",
              "    return next.value.response;\n",
              "  });\n",
              "}\n",
              "\n",
              "/**\n",
              " * Generator function which is called between each async step of the upload\n",
              " * process.\n",
              " * @param {string} inputId Element ID of the input file picker element.\n",
              " * @param {string} outputId Element ID of the output display.\n",
              " * @return {!Iterable<!Object>} Iterable of next steps.\n",
              " */\n",
              "function* uploadFilesStep(inputId, outputId) {\n",
              "  const inputElement = document.getElementById(inputId);\n",
              "  inputElement.disabled = false;\n",
              "\n",
              "  const outputElement = document.getElementById(outputId);\n",
              "  outputElement.innerHTML = '';\n",
              "\n",
              "  const pickedPromise = new Promise((resolve) => {\n",
              "    inputElement.addEventListener('change', (e) => {\n",
              "      resolve(e.target.files);\n",
              "    });\n",
              "  });\n",
              "\n",
              "  const cancel = document.createElement('button');\n",
              "  inputElement.parentElement.appendChild(cancel);\n",
              "  cancel.textContent = 'Cancel upload';\n",
              "  const cancelPromise = new Promise((resolve) => {\n",
              "    cancel.onclick = () => {\n",
              "      resolve(null);\n",
              "    };\n",
              "  });\n",
              "\n",
              "  // Wait for the user to pick the files.\n",
              "  const files = yield {\n",
              "    promise: Promise.race([pickedPromise, cancelPromise]),\n",
              "    response: {\n",
              "      action: 'starting',\n",
              "    }\n",
              "  };\n",
              "\n",
              "  cancel.remove();\n",
              "\n",
              "  // Disable the input element since further picks are not allowed.\n",
              "  inputElement.disabled = true;\n",
              "\n",
              "  if (!files) {\n",
              "    return {\n",
              "      response: {\n",
              "        action: 'complete',\n",
              "      }\n",
              "    };\n",
              "  }\n",
              "\n",
              "  for (const file of files) {\n",
              "    const li = document.createElement('li');\n",
              "    li.append(span(file.name, {fontWeight: 'bold'}));\n",
              "    li.append(span(\n",
              "        `(${file.type || 'n/a'}) - ${file.size} bytes, ` +\n",
              "        `last modified: ${\n",
              "            file.lastModifiedDate ? file.lastModifiedDate.toLocaleDateString() :\n",
              "                                    'n/a'} - `));\n",
              "    const percent = span('0% done');\n",
              "    li.appendChild(percent);\n",
              "\n",
              "    outputElement.appendChild(li);\n",
              "\n",
              "    const fileDataPromise = new Promise((resolve) => {\n",
              "      const reader = new FileReader();\n",
              "      reader.onload = (e) => {\n",
              "        resolve(e.target.result);\n",
              "      };\n",
              "      reader.readAsArrayBuffer(file);\n",
              "    });\n",
              "    // Wait for the data to be ready.\n",
              "    let fileData = yield {\n",
              "      promise: fileDataPromise,\n",
              "      response: {\n",
              "        action: 'continue',\n",
              "      }\n",
              "    };\n",
              "\n",
              "    // Use a chunked sending to avoid message size limits. See b/62115660.\n",
              "    let position = 0;\n",
              "    do {\n",
              "      const length = Math.min(fileData.byteLength - position, MAX_PAYLOAD_SIZE);\n",
              "      const chunk = new Uint8Array(fileData, position, length);\n",
              "      position += length;\n",
              "\n",
              "      const base64 = btoa(String.fromCharCode.apply(null, chunk));\n",
              "      yield {\n",
              "        response: {\n",
              "          action: 'append',\n",
              "          file: file.name,\n",
              "          data: base64,\n",
              "        },\n",
              "      };\n",
              "\n",
              "      let percentDone = fileData.byteLength === 0 ?\n",
              "          100 :\n",
              "          Math.round((position / fileData.byteLength) * 100);\n",
              "      percent.textContent = `${percentDone}% done`;\n",
              "\n",
              "    } while (position < fileData.byteLength);\n",
              "  }\n",
              "\n",
              "  // All done.\n",
              "  yield {\n",
              "    response: {\n",
              "      action: 'complete',\n",
              "    }\n",
              "  };\n",
              "}\n",
              "\n",
              "scope.google = scope.google || {};\n",
              "scope.google.colab = scope.google.colab || {};\n",
              "scope.google.colab._files = {\n",
              "  _uploadFiles,\n",
              "  _uploadFilesContinue,\n",
              "};\n",
              "})(self);\n",
              "</script> "
            ]
          },
          "metadata": {}
        },
        {
          "output_type": "stream",
          "name": "stdout",
          "text": [
            "Saving A2_example_dataset - students_demo.csv to A2_example_dataset - students_demo.csv\n"
          ]
        }
      ]
    },
    {
      "cell_type": "code",
      "execution_count": 31,
      "metadata": {
        "id": "ALgD4Z0O4Thj"
      },
      "outputs": [],
      "source": [
        "def data_description(filename, print_val = True):\n",
        "    ## Write a well commented function that inputs dataset file location (.csv file) and outputs the following\n",
        "    ## 1. data_scale (of length = number of attributes)\n",
        "    ## 2. data_value (of length = number of attributes)\n",
        "    ## 3. imported dataset for later use\n",
        "    ## It should also print those details for each attribute(Output must be similar to what is mentioned below)\n",
        "    \n",
        "    dataset = pd.read_csv(filename)\n",
        "    num_rows = len(dataset)\n",
        "    num_cols = len(dataset.columns)\n",
        "\n",
        "    \n",
        "    data_scale = []\n",
        "    data_value = []\n",
        "\n",
        "\n",
        "    for column in dataset.columns:\n",
        "      # Figure out the scale of the column first\n",
        "      scale = \"\"\n",
        "      if(type(dataset[column][0]) == type(\"string\")):\n",
        "        scale = \"Nominal\"\n",
        "      elif(type(dataset[column][0]) == np.float64):\n",
        "        scale = \"Ratio\"\n",
        "      else:\n",
        "        standard_deviation = dataset[column].std()\n",
        "        range = dataset[column].max() - dataset[column].min()\n",
        "        ratio = range/(3*standard_deviation)\n",
        "        if ratio>0.9 and ratio<1.1:\n",
        "          scale = \"Ordinal\"\n",
        "        else:\n",
        "          scale = \"Ratio\"\n",
        " \n",
        "\n",
        "      # Figuring out the datatype\n",
        "      data_type = \"\"\n",
        "      if(type(dataset[column][0]) == np.float64):\n",
        "        data_type = \"Continuous\"\n",
        "      else:\n",
        "        data_type = \"Discrete\"\n",
        "      \n",
        "      data_value.append(data_type)\n",
        "      data_scale.append(scale)\n",
        "\n",
        "\n",
        "    if(print_val):\n",
        "      print(\"This dataset contains \" + str(num_rows) + \" entries, each with \" + str(num_cols) + \" attributes\\n\")\n",
        "      for i, (scale, value, column) in enumerate(zip(data_scale, data_value, dataset.columns)):\n",
        "        print(str(i) + \" \" + str(column) + \": \" + str(scale) + \", \" + str(value))\n",
        "\n",
        "    return data_scale, data_value, dataset"
      ]
    },
    {
      "cell_type": "code",
      "source": [
        "data_scale, data_value, dataset = data_description(\"A2_example_dataset - students_demo.csv\")"
      ],
      "metadata": {
        "colab": {
          "base_uri": "https://localhost:8080/",
          "height": 130
        },
        "id": "9PYI4LA_YvW8",
        "outputId": "a9647e1f-d27e-414b-eb3c-eda66ba02edc"
      },
      "execution_count": 32,
      "outputs": [
        {
          "output_type": "error",
          "ename": "SyntaxError",
          "evalue": "ignored",
          "traceback": [
            "\u001b[0;36m  File \u001b[0;32m\"<ipython-input-32-948bcfea3b10>\"\u001b[0;36m, line \u001b[0;32m1\u001b[0m\n\u001b[0;31m    |data_scale, data_value, dataset = data_description(\"A2_example_dataset - students_demo.csv\")\u001b[0m\n\u001b[0m    ^\u001b[0m\n\u001b[0;31mSyntaxError\u001b[0m\u001b[0;31m:\u001b[0m invalid syntax\n"
          ]
        }
      ]
    },
    {
      "cell_type": "markdown",
      "metadata": {
        "id": "mJ2JWRj84Thj"
      },
      "source": [
        "    Output must similar to this:\n",
        "    \n",
        "    This dataset contains 649 entries, each with 6 attributes\n",
        "\n",
        "    0 gender : nominal, discrete\n",
        "    1 age : ratio, discrete\n",
        "    2 health_rating : ordinal, discrete\n",
        "    3 StudentIQ : ratio, discrete\n",
        "    4 no_of_courses : ratio, discrete\n",
        "    5 Marks : ratio, continuous\n"
      ]
    },
    {
      "cell_type": "markdown",
      "metadata": {
        "id": "dhjk2bNF4Thk"
      },
      "source": [
        "### 3. Write a python code to perform statistics on each data column based on its data scale."
      ]
    },
    {
      "cell_type": "code",
      "execution_count": 33,
      "metadata": {
        "id": "m51QornK4Thk"
      },
      "outputs": [],
      "source": [
        "def stats(filename):\n",
        "    ## Write a well commented function that calls the function data_description and prints\n",
        "    ## relevant statistics based on data scale.\n",
        "    ## Hint: Explore describe()\n",
        "    data_scale, data_value, dataset = data_description(filename, False)\n",
        "    for scale, value, column in zip(data_scale, data_value, dataset.columns):\n",
        "      print(column)\n",
        "      if(scale == \"Nominal\"):\n",
        "        mode = dataset[column].mode()\n",
        "        print('mode : ', mode[0])\n",
        "        print(dataset[column].value_counts())\n",
        "        print('\\n')\n",
        "      elif(scale == \"Ordinal\"):\n",
        "        mode = dataset[column].mode()\n",
        "        print('mode : ', mode[0])\n",
        "        median = dataset[column].median()\n",
        "        print(dataset[column].value_counts())\n",
        "        print('\\n')\n",
        "      else:\n",
        "        print(dataset[column].describe())\n",
        "        print('\\n')\n",
        "    return"
      ]
    },
    {
      "cell_type": "code",
      "source": [
        "stats(\"A2_example_dataset - students_demo.csv\")"
      ],
      "metadata": {
        "colab": {
          "base_uri": "https://localhost:8080/"
        },
        "id": "XVSWkbxVbOz3",
        "outputId": "0f8cff6d-2f8f-42b6-f087-7fc98c4ed08a"
      },
      "execution_count": 34,
      "outputs": [
        {
          "output_type": "stream",
          "name": "stdout",
          "text": [
            "gender\n",
            "mode :  F\n",
            "F    383\n",
            "M    266\n",
            "Name: gender, dtype: int64\n",
            "\n",
            "\n",
            "age\n",
            "count    649.000000\n",
            "mean      16.744222\n",
            "std        1.218138\n",
            "min       15.000000\n",
            "25%       16.000000\n",
            "50%       17.000000\n",
            "75%       18.000000\n",
            "max       22.000000\n",
            "Name: age, dtype: float64\n",
            "\n",
            "\n",
            "health_rating\n",
            "mode :  5\n",
            "5    249\n",
            "3    124\n",
            "4    108\n",
            "1     90\n",
            "2     78\n",
            "Name: health_rating, dtype: int64\n",
            "\n",
            "\n",
            "StudentIQ\n",
            "count    649.000000\n",
            "mean     100.229584\n",
            "std       10.256494\n",
            "min       75.000000\n",
            "25%       93.000000\n",
            "50%      101.000000\n",
            "75%      107.000000\n",
            "max      131.000000\n",
            "Name: StudentIQ, dtype: float64\n",
            "\n",
            "\n",
            "no_of_courses\n",
            "count    649.000000\n",
            "mean      10.596302\n",
            "std        5.714697\n",
            "min        1.000000\n",
            "25%        5.000000\n",
            "50%       11.000000\n",
            "75%       16.000000\n",
            "max       20.000000\n",
            "Name: no_of_courses, dtype: float64\n",
            "\n",
            "\n",
            "Marks\n",
            "count    649.000000\n",
            "mean      75.137257\n",
            "std       14.559722\n",
            "min       50.120000\n",
            "25%       62.560000\n",
            "50%       75.120000\n",
            "75%       87.670000\n",
            "max       99.860000\n",
            "Name: Marks, dtype: float64\n",
            "\n",
            "\n"
          ]
        }
      ]
    },
    {
      "cell_type": "markdown",
      "metadata": {
        "id": "hgQDNct34Thk"
      },
      "source": [
        "    Output must be some what similar to this:\n",
        "\n",
        "    gender\n",
        "    mode F\n",
        "    F    383\n",
        "    M    266\n",
        "    Name: gender, dtype: int64 \n",
        "\n",
        "    age\n",
        "    mode      17.000000\n",
        "    mean      16.744222\n",
        "    std        1.218138\n",
        "    min       15.000000\n",
        "    25%       16.000000\n",
        "    median    17.000000\n",
        "    75%       18.000000\n",
        "    max       22.000000\n",
        "    Name: age, dtype: float64 \n",
        "\n",
        "    health_rating\n",
        "    mode   5\n",
        "    median 4\n",
        "    1     90\n",
        "    2     78\n",
        "    3    124\n",
        "    4    108\n",
        "    5    249\n",
        "    Name: health_rating, dtype: int64 \n",
        "\n",
        "    StudentIQ\n",
        "    mode     104.000000\n",
        "    mean     100.229584\n",
        "    std       10.256494\n",
        "    min       75.000000\n",
        "    25%       93.000000\n",
        "    median   101.000000\n",
        "    75%      107.000000\n",
        "    max      131.000000\n",
        "    Name: StudentIQ, dtype: float64 \n",
        "\n",
        "    no_of_courses\n",
        "    mode      17.000000\n",
        "    count    649.000000\n",
        "    mean      10.596302\n",
        "    std        5.714697\n",
        "    min        1.000000\n",
        "    25%        5.000000\n",
        "    median    11.000000\n",
        "    75%       16.000000\n",
        "    max       20.000000\n",
        "    Name: no_of_courses, dtype: float64 \n",
        "\n",
        "    Marks\n",
        "    mode      52.810000\n",
        "    count    649.000000\n",
        "    mean      75.137257\n",
        "    std       14.559722\n",
        "    min       50.120000\n",
        "    25%       62.560000\n",
        "    median    75.120000\n",
        "    75%       87.670000\n",
        "    max       99.860000\n",
        "    Name: Marks, dtype: float64 "
      ]
    },
    {
      "cell_type": "markdown",
      "metadata": {
        "id": "H5pumpcq4Thl"
      },
      "source": [
        "### 4. Can we use a box plot for visualizing ordinal data ? (Yes/No). Explain why.\n",
        "![MicrosoftTeams-image2.png](attachment:MicrosoftTeams-image2.png)"
      ]
    },
    {
      "cell_type": "markdown",
      "metadata": {
        "id": "hwIS076Z4Thm"
      },
      "source": [
        "### Write your answer here. \n",
        "Yes boxplots can be used for visualiing ordinal data as boxplots are used to show the distribution of data within the 75th and 25th percentiles. Since in ordinal data, median is a valid measure, and maximum and minimum are also important, box plot can be a good choice."
      ]
    },
    {
      "cell_type": "markdown",
      "metadata": {
        "id": "nOzRiVt14Thm"
      },
      "source": [
        "###   5.  Write a python code to visualize the data (a generalized method depending on data scale) "
      ]
    },
    {
      "cell_type": "code",
      "execution_count": 85,
      "metadata": {
        "id": "LrwrLSAe4Thm"
      },
      "outputs": [],
      "source": [
        "def get_data(dataset, column):\n",
        "  data = dataset[column].value_counts()\n",
        "  indices = data.index\n",
        "  labels = []\n",
        "  values = []\n",
        "  for i in range(len(indices)):\n",
        "    values.append(data[i])\n",
        "    labels.append(indices[i])\n",
        "  return [labels, values]\n",
        "\n",
        "def visualize_data(filename):\n",
        "  ## Write a well commented function that can call any of the functions from above \n",
        "  ## to plot relevant plots\n",
        "  ## Hint: Use sns.distplot, sns.countplot. Make a new figure for each plot (plt.figure(i))       \n",
        "  data_scale, data_value, dataset = data_description(filename, False)\n",
        "  for scale, value, column in zip(data_scale, data_value, dataset.columns):\n",
        "  \n",
        "    if(scale == \"Ordinal\"):\n",
        "      fig, ax = plt.subplots()\n",
        "      sns.boxplot(dataset[column])\n",
        "      plt.title(column)\n",
        "      plt.show()\n",
        "\n",
        "    elif(scale == \"Nominal\"):\n",
        "      fig, ax = plt.subplots()\n",
        "      palette_color = sns.color_palette('bright')\n",
        "      data = np.array(dataset[column].value_counts())\n",
        "      keys = dataset[column].unique()\n",
        "      ax.pie(data, labels=keys, colors=palette_color, autopct='%.0f%%')\n",
        "      plt.title(column)\n",
        "      plt.show()\n",
        "      fig, ax = plt.subplots()\n",
        "      ax.bar(get_data(dataset, column)[0], get_data(dataset, column)[1])\n",
        "      plt.title(column)\n",
        "      plt.show()\n",
        "\n",
        "    else:\n",
        "      fig, ax = plt.subplots()\n",
        "      sns.histplot(dataset[column])\n",
        "      plt.title(column)\n",
        "      plt.show()\n",
        "  return"
      ]
    },
    {
      "cell_type": "code",
      "source": [
        "visualize_data(\"A2_example_dataset - students_demo.csv\")"
      ],
      "metadata": {
        "colab": {
          "base_uri": "https://localhost:8080/",
          "height": 1000
        },
        "id": "4oLav4n7hIjL",
        "outputId": "4ffd0b60-1e0f-48ff-bbe4-df28d5d4e2ea"
      },
      "execution_count": 86,
      "outputs": [
        {
          "output_type": "display_data",
          "data": {
            "text/plain": [
              "<Figure size 432x288 with 1 Axes>"
            ],
            "image/png": "[encoded data removed]"
          },
          "metadata": {}
        },
        {
          "output_type": "display_data",
          "data": {
            "text/plain": [
              "<Figure size 432x288 with 1 Axes>"
            ],
            "image/png": "[encoded data removed]"
          },
          "metadata": {
            "needs_background": "light"
          }
        },
        {
          "output_type": "display_data",
          "data": {
            "text/plain": [
              "<Figure size 432x288 with 1 Axes>"
            ],
            "image/png": "[encoded data removed]"
          },
          "metadata": {
            "needs_background": "light"
          }
        },
        {
          "output_type": "stream",
          "name": "stderr",
          "text": [
            "/usr/local/lib/python3.7/dist-packages/seaborn/_decorators.py:43: FutureWarning: Pass the following variable as a keyword arg: x. From version 0.12, the only valid positional argument will be `data`, and passing other arguments without an explicit keyword will result in an error or misinterpretation.\n",
            "  FutureWarning\n"
          ]
        },
        {
          "output_type": "display_data",
          "data": {
            "text/plain": [
              "<Figure size 432x288 with 1 Axes>"
            ],
            "image/png": "[encoded data removed]"
          },
          "metadata": {
            "needs_background": "light"
          }
        },
        {
          "output_type": "display_data",
          "data": {
            "text/plain": [
              "<Figure size 432x288 with 1 Axes>"
            ],
            "image/png": "[encoded data removed]"
          },
          "metadata": {
            "needs_background": "light"
          }
        },
        {
          "output_type": "display_data",
          "data": {
            "text/plain": [
              "<Figure size 432x288 with 1 Axes>"
            ],
            "image/png": "[encoded data removed]"
          },
          "metadata": {
            "needs_background": "light"
          }
        },
        {
          "output_type": "display_data",
          "data": {
            "text/plain": [
              "<Figure size 432x288 with 1 Axes>"
            ],
            "image/png": "[encoded data removed]"
          },
          "metadata": {
            "needs_background": "light"
          }
        }
      ]
    }
  ],
  "metadata": {
    "celltoolbar": "Raw Cell Format",
    "kernelspec": {
      "display_name": "Python 3",
      "language": "python",
      "name": "python3"
    },
    "language_info": {
      "codemirror_mode": {
        "name": "ipython",
        "version": 3
      },
      "file_extension": ".py",
      "mimetype": "text/x-python",
      "name": "python",
      "nbconvert_exporter": "python",
      "pygments_lexer": "ipython3",
      "version": "3.7.1"
    },
    "colab": {
      "provenance": []
    }
  },
  "nbformat": 4,
  "nbformat_minor": 0
}